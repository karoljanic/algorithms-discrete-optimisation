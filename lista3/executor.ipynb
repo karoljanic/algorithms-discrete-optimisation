{
 "cells": [
  {
   "cell_type": "code",
   "execution_count": 2,
   "metadata": {},
   "outputs": [],
   "source": [
    "import os\n",
    "import numpy as np\n",
    "import matplotlib.pyplot as plt"
   ]
  },
  {
   "cell_type": "code",
   "execution_count": 3,
   "metadata": {},
   "outputs": [],
   "source": [
    "# define test data location\n",
    "INPUTS_PATH = \"tests/inputs/\"\n",
    "OUTPUTS_PATH = \"tests/outputs/\"\n",
    "FAMILIES = [\"Long-n\", \"Random4-n\", \"Square-C\", \"USA-road-t\"]\n",
    "ALGS = {\"dial\" : \"./dial\"}\n",
    "#ALGS = {\"dijkstra\" : \"./dijkstra\", \"dial\" : \"./dial\", \"radix\" : \"./radix\"}"
   ]
  },
  {
   "cell_type": "code",
   "execution_count": 2,
   "metadata": {},
   "outputs": [
    {
     "name": "stdout",
     "output_type": "stream",
     "text": [
      "radix: Long-n.10.0.gr\n",
      "radix: Long-n.11.0.gr\n",
      "radix: Long-n.12.0.gr\n",
      "radix: Long-n.13.0.gr\n",
      "radix: Long-n.14.0.gr\n",
      "radix: Long-n.15.0.gr\n",
      "radix: Long-n.16.0.gr\n",
      "radix: Long-n.17.0.gr\n",
      "radix: Long-n.18.0.gr\n",
      "radix: Long-n.19.0.gr\n",
      "radix: Long-n.20.0.gr\n",
      "radix: Long-n.21.0.gr\n"
     ]
    }
   ],
   "source": [
    "# test Long-n family\n",
    "for alg in ALGS.keys():\n",
    "    for gr_file in sorted(os.listdir(INPUTS_PATH + FAMILIES[0])):\n",
    "        if gr_file[-3:] == \".gr\":\n",
    "            print(f\"{alg}: {gr_file}\")\n",
    "            #print(f\"{ALGS[alg]} -d {INPUTS_PATH}{FAMILIES[0]}/{gr_file} -ss {INPUTS_PATH}{FAMILIES[0]}/{gr_file[:-3]}.ss -oss {OUTPUTS_PATH}{FAMILIES[0]}/{alg}/{gr_file[:-3]}.oss\")\n",
    "            os.system(f\"{ALGS[alg]} -d {INPUTS_PATH}{FAMILIES[0]}/{gr_file} -ss {INPUTS_PATH}{FAMILIES[0]}/{gr_file[:-3]}.ss -oss {OUTPUTS_PATH}{FAMILIES[0]}/{alg}/{gr_file[:-3]}.oss\")"
   ]
  },
  {
   "cell_type": "code",
   "execution_count": 4,
   "metadata": {},
   "outputs": [
    {
     "name": "stdout",
     "output_type": "stream",
     "text": [
      "dijkstra: Random4-n.10.0.gr\n",
      "dijkstra: Random4-n.11.0.gr\n",
      "dijkstra: Random4-n.12.0.gr\n",
      "dijkstra: Random4-n.13.0.gr\n",
      "dijkstra: Random4-n.14.0.gr\n",
      "dijkstra: Random4-n.15.0.gr\n",
      "dijkstra: Random4-n.16.0.gr\n",
      "dijkstra: Random4-n.17.0.gr\n",
      "dijkstra: Random4-n.18.0.gr\n",
      "dijkstra: Random4-n.19.0.gr\n",
      "dijkstra: Random4-n.20.0.gr\n",
      "dijkstra: Random4-n.21.0.gr\n",
      "dial: Random4-n.10.0.gr\n",
      "dial: Random4-n.11.0.gr\n",
      "dial: Random4-n.12.0.gr\n",
      "dial: Random4-n.13.0.gr\n",
      "dial: Random4-n.14.0.gr\n",
      "dial: Random4-n.15.0.gr\n",
      "dial: Random4-n.16.0.gr\n",
      "dial: Random4-n.17.0.gr\n",
      "dial: Random4-n.18.0.gr\n",
      "dial: Random4-n.19.0.gr\n",
      "dial: Random4-n.20.0.gr\n",
      "dial: Random4-n.21.0.gr\n",
      "radix: Random4-n.10.0.gr\n",
      "radix: Random4-n.11.0.gr\n",
      "radix: Random4-n.12.0.gr\n",
      "radix: Random4-n.13.0.gr\n",
      "radix: Random4-n.14.0.gr\n",
      "radix: Random4-n.15.0.gr\n",
      "radix: Random4-n.16.0.gr\n",
      "radix: Random4-n.17.0.gr\n",
      "radix: Random4-n.18.0.gr\n",
      "radix: Random4-n.19.0.gr\n",
      "radix: Random4-n.20.0.gr\n",
      "radix: Random4-n.21.0.gr\n"
     ]
    }
   ],
   "source": [
    "# test Random4-n family\n",
    "for alg in ALGS.keys():\n",
    "    for gr_file in sorted(os.listdir(INPUTS_PATH + FAMILIES[1])):\n",
    "        if gr_file[-3:] == \".gr\":\n",
    "            print(f\"{alg}: {gr_file}\")\n",
    "            os.system(f\"{ALGS[alg]} -d {INPUTS_PATH}{FAMILIES[1]}/{gr_file} -ss {INPUTS_PATH}{FAMILIES[1]}/{gr_file[:-3]}.ss -oss {OUTPUTS_PATH}{FAMILIES[1]}/{alg}/{gr_file[:-3]}.oss\")\n",
    "            #print(f\"{ALGS[alg]} -d {INPUTS_PATH}{FAMILIES[1]}/{gr_file} -ss {INPUTS_PATH}{FAMILIES[1]}/{gr_file[:-3]}.ss -oss {OUTPUTS_PATH}{FAMILIES[1]}/{alg}/{gr_file[:-3]}.oss\")"
   ]
  },
  {
   "cell_type": "code",
   "execution_count": 4,
   "metadata": {},
   "outputs": [
    {
     "name": "stdout",
     "output_type": "stream",
     "text": [
      "dial: Square-C.0.0.gr\n",
      "dial: Square-C.1.0.gr\n",
      "dial: Square-C.10.0.gr\n",
      "dial: Square-C.11.0.gr\n",
      "dial: Square-C.2.0.gr\n",
      "dial: Square-C.3.0.gr\n",
      "dial: Square-C.4.0.gr\n",
      "dial: Square-C.5.0.gr\n",
      "dial: Square-C.6.0.gr\n",
      "dial: Square-C.7.0.gr\n",
      "dial: Square-C.8.0.gr\n",
      "dial: Square-C.9.0.gr\n"
     ]
    }
   ],
   "source": [
    "# test Square-C family\n",
    "for alg in ALGS.keys():\n",
    "    for gr_file in sorted(os.listdir(INPUTS_PATH + FAMILIES[2])):\n",
    "        if gr_file[-3:] == \".gr\":\n",
    "            if(gr_file == 'Square-C.15.0.gr'):\n",
    "                continue\n",
    "            if(gr_file == 'Square-C.14.0.gr'):\n",
    "                continue\n",
    "            if(gr_file == 'Square-C.13.0.gr'):\n",
    "                continue\n",
    "            if(gr_file == 'Square-C.12.0.gr'):\n",
    "                continue\n",
    "            print(f\"{alg}: {gr_file}\")\n",
    "            os.system(f\"{ALGS[alg]} -d {INPUTS_PATH}{FAMILIES[2]}/{gr_file} -ss {INPUTS_PATH}{FAMILIES[2]}/{gr_file[:-3]}.ss -oss {OUTPUTS_PATH}{FAMILIES[2]}/{alg}/{gr_file[:-3]}.oss\")\n",
    "            #print(f\"{ALGS[alg]} -d {INPUTS_PATH}{FAMILIES[2]}/{gr_file} -ss {INPUTS_PATH}{FAMILIES[2]}/{gr_file[:-3]}.ss -oss {OUTPUTS_PATH}{FAMILIES[2]}/{alg}/{gr_file[:-3]}.oss\")"
   ]
  },
  {
   "cell_type": "code",
   "execution_count": 6,
   "metadata": {},
   "outputs": [
    {
     "name": "stdout",
     "output_type": "stream",
     "text": [
      "dijkstra: USA-road-t.BAY.gr\n",
      "dial: USA-road-t.BAY.gr\n",
      "radix: USA-road-t.BAY.gr\n"
     ]
    }
   ],
   "source": [
    "# test USA-road-t family\n",
    "for alg in ALGS.keys():\n",
    "    for gr_file in sorted(os.listdir(INPUTS_PATH + FAMILIES[3])):\n",
    "        if gr_file[-3:] == \".gr\":\n",
    "            print(f\"{alg}: {gr_file}\")\n",
    "            os.system(f\"{ALGS[alg]} -d {INPUTS_PATH}{FAMILIES[3]}/{gr_file} -ss {INPUTS_PATH}{FAMILIES[3]}/{gr_file[:-3]}.ss -oss {OUTPUTS_PATH}{FAMILIES[3]}/{alg}/{gr_file[:-3]}.oss\")\n",
    "            #print(f\"{ALGS[alg]} -d {INPUTS_PATH}{FAMILIES[3]}/{gr_file} -ss {INPUTS_PATH}{FAMILIES[3]}/{gr_file[:-3]}.ss -oss {OUTPUTS_PATH}{FAMILIES[3]}/{alg}/{gr_file[:-3]}.oss\")"
   ]
  }
 ],
 "metadata": {
  "kernelspec": {
   "display_name": "Python 3.11.3 64-bit",
   "language": "python",
   "name": "python3"
  },
  "language_info": {
   "codemirror_mode": {
    "name": "ipython",
    "version": 3
   },
   "file_extension": ".py",
   "mimetype": "text/x-python",
   "name": "python",
   "nbconvert_exporter": "python",
   "pygments_lexer": "ipython3",
   "version": "3.11.5"
  },
  "orig_nbformat": 4,
  "vscode": {
   "interpreter": {
    "hash": "e7370f93d1d0cde622a1f8e1c04877d8463912d04d973331ad4851f04de6915a"
   }
  }
 },
 "nbformat": 4,
 "nbformat_minor": 2
}
