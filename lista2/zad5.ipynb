{
 "cells": [
  {
   "cell_type": "markdown",
   "metadata": {},
   "source": [
    "Karol Janic\n",
    "\n",
    "kwiecień 2023\n",
    "\n",
    "zad5.ipynb - Planowanie produkcji w fabryce."
   ]
  },
  {
   "cell_type": "code",
   "execution_count": 1,
   "metadata": {},
   "outputs": [],
   "source": [
    "using JuMP\n",
    "using GLPK\n",
    "\n",
    "using JSON"
   ]
  },
  {
   "cell_type": "code",
   "execution_count": 2,
   "metadata": {},
   "outputs": [
    {
     "data": {
      "text/plain": [
       "Dict{String, Any} with 4 entries:\n",
       "  \"P2\" => Dict{String, Any}(\"popyt\"=>100, \"cena\"=>7, \"koszt\"=>1, \"obrobka\"=>Dic…\n",
       "  \"P1\" => Dict{String, Any}(\"popyt\"=>400, \"cena\"=>9, \"koszt\"=>4, \"obrobka\"=>Dic…\n",
       "  \"P4\" => Dict{String, Any}(\"popyt\"=>500, \"cena\"=>5, \"koszt\"=>1, \"obrobka\"=>Dic…\n",
       "  \"P3\" => Dict{String, Any}(\"popyt\"=>150, \"cena\"=>6, \"koszt\"=>1, \"obrobka\"=>Dic…"
      ]
     },
     "metadata": {},
     "output_type": "display_data"
    }
   ],
   "source": [
    "dane_wejsciowe = JSON.parse(read(\"data5.json\", String))\n",
    "\n",
    "maszyny = dane_wejsciowe[\"maszyny\"]\n",
    "produkty = dane_wejsciowe[\"produkty\"]"
   ]
  },
  {
   "cell_type": "code",
   "execution_count": 3,
   "metadata": {},
   "outputs": [
    {
     "data": {
      "text/plain": [
       "A JuMP Model\n",
       "Feasibility problem with:\n",
       "Variables: 0\n",
       "Model mode: AUTOMATIC\n",
       "CachingOptimizer state: EMPTY_OPTIMIZER\n",
       "Solver name: GLPK"
      ]
     },
     "metadata": {},
     "output_type": "display_data"
    }
   ],
   "source": [
    "model = Model(GLPK.Optimizer)"
   ]
  },
  {
   "cell_type": "markdown",
   "metadata": {},
   "source": [
    "Definicja zmiennych decyzyjnych(ilość produktu w kilogramach do wyprodukowania) oraz ograniczenie ich wartości do liczb nieujemnych:"
   ]
  },
  {
   "cell_type": "code",
   "execution_count": 4,
   "metadata": {},
   "outputs": [
    {
     "data": {
      "text/plain": [
       "1-dimensional DenseAxisArray{VariableRef,1,...} with index sets:\n",
       "    Dimension 1, [\"P2\", \"P1\", \"P4\", \"P3\"]\n",
       "And data, a 4-element Vector{VariableRef}:\n",
       " x[P2]\n",
       " x[P1]\n",
       " x[P4]\n",
       " x[P3]"
      ]
     },
     "metadata": {},
     "output_type": "display_data"
    }
   ],
   "source": [
    "@variable(model, x[keys(produkty)] >= 0)"
   ]
  },
  {
   "cell_type": "markdown",
   "metadata": {},
   "source": [
    "Ograniczenie ilości produkowanego danego produktu do popytu na niego:"
   ]
  },
  {
   "cell_type": "code",
   "execution_count": 5,
   "metadata": {},
   "outputs": [
    {
     "data": {
      "text/plain": [
       "1-dimensional DenseAxisArray{ConstraintRef{Model, MathOptInterface.ConstraintIndex{MathOptInterface.ScalarAffineFunction{Float64}, MathOptInterface.LessThan{Float64}}, ScalarShape},1,...} with index sets:\n",
       "    Dimension 1, [\"P2\", \"P1\", \"P4\", \"P3\"]\n",
       "And data, a 4-element Vector{ConstraintRef{Model, MathOptInterface.ConstraintIndex{MathOptInterface.ScalarAffineFunction{Float64}, MathOptInterface.LessThan{Float64}}, ScalarShape}}:\n",
       " x[P2] ≤ 100.0\n",
       " x[P1] ≤ 400.0\n",
       " x[P4] ≤ 500.0\n",
       " x[P3] ≤ 150.0"
      ]
     },
     "metadata": {},
     "output_type": "display_data"
    }
   ],
   "source": [
    "@constraint(model, \n",
    "    [produkt in keys(produkty)], x[produkt] <= produkty[produkt][\"popyt\"])"
   ]
  },
  {
   "cell_type": "markdown",
   "metadata": {},
   "source": [
    "Ograniczenie możliwości produkcyjnych maszyn:"
   ]
  },
  {
   "cell_type": "code",
   "execution_count": 6,
   "metadata": {},
   "outputs": [
    {
     "data": {
      "text/plain": [
       "1-dimensional DenseAxisArray{ConstraintRef{Model, MathOptInterface.ConstraintIndex{MathOptInterface.ScalarAffineFunction{Float64}, MathOptInterface.LessThan{Float64}}, ScalarShape},1,...} with index sets:\n",
       "    Dimension 1, [\"M3\", \"M2\", \"M1\"]\n",
       "And data, a 3-element Vector{ConstraintRef{Model, MathOptInterface.ConstraintIndex{MathOptInterface.ScalarAffineFunction{Float64}, MathOptInterface.LessThan{Float64}}, ScalarShape}}:\n",
       " 4 x[P2] + 6 x[P1] + x[P4] + 3 x[P3] ≤ 3600.0\n",
       " 6 x[P2] + 10 x[P1] + 2 x[P4] + 5 x[P3] ≤ 3600.0\n",
       " 3 x[P2] + 5 x[P1] + 4 x[P4] + 4 x[P3] ≤ 3600.0"
      ]
     },
     "metadata": {},
     "output_type": "display_data"
    }
   ],
   "source": [
    "@constraint(model, \n",
    "    [maszyna in keys(maszyny)], sum(x[produkt] * produkty[produkt][\"obrobka\"][maszyna] for produkt in keys(produkty)) <= maszyny[maszyna][\"dostepnosc\"])"
   ]
  },
  {
   "cell_type": "markdown",
   "metadata": {},
   "source": [
    "Funkcja zysku w dolarach(ilość produktu w kilogramach * cena produktu w dolarach za kilogram - ilość produtu w kilogramach * koszt surowców w dolarach za kilogram - liczba przepracowanych godzin przez maszynę / 60 * koszt pracy maszyny w dolarach na minutę):"
   ]
  },
  {
   "cell_type": "code",
   "execution_count": 7,
   "metadata": {},
   "outputs": [
    {
     "data": {
      "text/latex": [
       "$$ 5.5 x_{P2} + 4.2 x_{P1} + 3.75 x_{P4} + 4.549999999999999 x_{P3} $$"
      ],
      "text/plain": [
       "5.5 x[P2] + 4.2 x[P1] + 3.75 x[P4] + 4.549999999999999 x[P3]"
      ]
     },
     "metadata": {},
     "output_type": "display_data"
    }
   ],
   "source": [
    "@objective(model, Max, \n",
    "    sum(x[produkt] * produkty[produkt][\"cena\"] for produkt in keys(produkty)) - sum(x[produkt] * produkty[produkt][\"koszt\"] for produkt in keys(produkty)) - sum(x[produkt] * produkty[produkt][\"obrobka\"][maszyna] * maszyny[maszyna][\"koszt\"] / 60 for produkt in keys(produkty), maszyna in keys(maszyny)))"
   ]
  },
  {
   "cell_type": "code",
   "execution_count": 8,
   "metadata": {},
   "outputs": [],
   "source": [
    "optimize!(model)"
   ]
  },
  {
   "cell_type": "code",
   "execution_count": 9,
   "metadata": {},
   "outputs": [
    {
     "data": {
      "text/plain": [
       "* Solver : GLPK\n",
       "\n",
       "* Status\n",
       "  Result count       : 1\n",
       "  Termination status : OPTIMAL\n",
       "  Message from the solver:\n",
       "  \"Solution is optimal\"\n",
       "\n",
       "* Candidate solution (result #1)\n",
       "  Primal status      : FEASIBLE_POINT\n",
       "  Dual status        : FEASIBLE_POINT\n",
       "  Objective value    : 3.63250e+03\n",
       "  Objective bound    : Inf\n",
       "  Dual objective value : 3.63250e+03\n",
       "\n",
       "* Work counters\n",
       "  Solve time (sec)   : 6.58035e-05\n"
      ]
     },
     "metadata": {},
     "output_type": "display_data"
    }
   ],
   "source": [
    "solution_summary(model)"
   ]
  },
  {
   "cell_type": "code",
   "execution_count": 10,
   "metadata": {},
   "outputs": [
    {
     "data": {
      "text/plain": [
       "3632.5"
      ]
     },
     "metadata": {},
     "output_type": "display_data"
    }
   ],
   "source": [
    "JuMP.objective_value(model)"
   ]
  },
  {
   "cell_type": "code",
   "execution_count": 11,
   "metadata": {},
   "outputs": [
    {
     "name": "stdout",
     "output_type": "stream",
     "text": [
      "P1: 125.0 kg / tydz\n",
      "P2: 100.0 kg / tydz\n",
      "P3: 150.0 kg / tydz\n",
      "P4: 500.0 kg / tydz\n"
     ]
    }
   ],
   "source": [
    "for produkt in sort!(collect(keys(produkty)))\n",
    "    println(produkt, \": \", value(x[produkt]), \" kg / tydz\")\n",
    "end"
   ]
  }
 ],
 "metadata": {
  "kernelspec": {
   "display_name": "Julia 1.8.5",
   "language": "julia",
   "name": "julia-1.8"
  },
  "language_info": {
   "file_extension": ".jl",
   "mimetype": "application/julia",
   "name": "julia",
   "version": "1.8.5"
  },
  "orig_nbformat": 4,
  "vscode": {
   "interpreter": {
    "hash": "e7370f93d1d0cde622a1f8e1c04877d8463912d04d973331ad4851f04de6915a"
   }
  }
 },
 "nbformat": 4,
 "nbformat_minor": 2
}
