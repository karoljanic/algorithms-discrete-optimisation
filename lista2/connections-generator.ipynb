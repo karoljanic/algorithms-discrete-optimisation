{
 "cells": [
  {
   "cell_type": "code",
   "execution_count": 12,
   "metadata": {},
   "outputs": [],
   "source": [
    "import random"
   ]
  },
  {
   "cell_type": "code",
   "execution_count": 1,
   "metadata": {},
   "outputs": [],
   "source": [
    "miasta = [\n",
    "    \"Warszawa\", \n",
    "    \"Krakow\", \n",
    "    \"Lodz\", \n",
    "    \"Wroclaw\", \n",
    "    \"Poznan\", \n",
    "    \"Gdansk\", \n",
    "    \"Gdynia\", \n",
    "    \"Szczecin\", \n",
    "    \"Torun\", \n",
    "    \"Bydgoszcz\"\n",
    "]"
   ]
  },
  {
   "cell_type": "code",
   "execution_count": 19,
   "metadata": {},
   "outputs": [],
   "source": [
    "with open('connections.txt', 'w') as file:\n",
    "    for miasto1 in miasta:\n",
    "        file.write(\"\\\"{}\\\": {{\\n\".format(miasto1))\n",
    "\n",
    "        pozostale_miasta = [m for m in miasta if m != miasto1]\n",
    "\n",
    "        for miasto2 in random.sample(pozostale_miasta, k=7):\n",
    "            file.write(\"    \\\"{}\\\": {{\\n\".format(miasto2))\n",
    "            file.write(\"        \\\"odleglosc\\\": 0,\\n\")\n",
    "            file.write(\"        \\\"czas\\\": 0\\n\")\n",
    "            file.write(\"    },\\n\")\n",
    "\n",
    "        file.write(\"},\\n\")"
   ]
  }
 ],
 "metadata": {
  "kernelspec": {
   "display_name": "Python 3.10.10 64-bit",
   "language": "python",
   "name": "python3"
  },
  "language_info": {
   "codemirror_mode": {
    "name": "ipython",
    "version": 3
   },
   "file_extension": ".py",
   "mimetype": "text/x-python",
   "name": "python",
   "nbconvert_exporter": "python",
   "pygments_lexer": "ipython3",
   "version": "3.10.10"
  },
  "orig_nbformat": 4,
  "vscode": {
   "interpreter": {
    "hash": "e7370f93d1d0cde622a1f8e1c04877d8463912d04d973331ad4851f04de6915a"
   }
  }
 },
 "nbformat": 4,
 "nbformat_minor": 2
}
