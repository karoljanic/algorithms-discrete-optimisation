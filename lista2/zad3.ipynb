{
 "cells": [
  {
   "cell_type": "markdown",
   "metadata": {},
   "source": [
    "Karol Janic\n",
    "\n",
    "kwiecień 2023\n",
    "\n",
    "zad3.ipynb - Minimalizacja liczby radiowozów w pewnym mieście."
   ]
  },
  {
   "cell_type": "code",
   "execution_count": 1,
   "metadata": {},
   "outputs": [],
   "source": [
    "using JuMP\n",
    "using GLPK\n",
    "\n",
    "using JSON"
   ]
  },
  {
   "cell_type": "code",
   "execution_count": 2,
   "metadata": {},
   "outputs": [
    {
     "data": {
      "text/plain": [
       "Dict{String, Any} with 3 entries:\n",
       "  \"dzielnica 1\" => Dict{String, Any}(\"zmiana 2\"=>Dict{String, Any}(\"max\"=>7, \"m…\n",
       "  \"dzielnica 2\" => Dict{String, Any}(\"zmiana 2\"=>Dict{String, Any}(\"max\"=>7, \"m…\n",
       "  \"dzielnica 3\" => Dict{String, Any}(\"zmiana 2\"=>Dict{String, Any}(\"max\"=>12, \"…"
      ]
     },
     "metadata": {},
     "output_type": "display_data"
    }
   ],
   "source": [
    "dane_wejsciowe = JSON.parse(read(\"data3.json\", String))\n",
    "\n",
    "dzielnice = dane_wejsciowe[\"dzielnice\"]\n",
    "zmiany = dane_wejsciowe[\"zmiany\"]\n",
    "ograniczenia = dane_wejsciowe[\"ograniczenia\"]"
   ]
  },
  {
   "cell_type": "code",
   "execution_count": 3,
   "metadata": {},
   "outputs": [
    {
     "data": {
      "text/plain": [
       "A JuMP Model\n",
       "Feasibility problem with:\n",
       "Variables: 0\n",
       "Model mode: AUTOMATIC\n",
       "CachingOptimizer state: EMPTY_OPTIMIZER\n",
       "Solver name: GLPK"
      ]
     },
     "metadata": {},
     "output_type": "display_data"
    }
   ],
   "source": [
    "model = Model(GLPK.Optimizer)"
   ]
  },
  {
   "cell_type": "markdown",
   "metadata": {},
   "source": [
    "Definicja zmiennych decyzyjnych(liczba radiowozów na danej zmianie w danej dzielnicy) oraz ograniczenie ich wartości do liczb nieujemnych:"
   ]
  },
  {
   "cell_type": "code",
   "execution_count": 4,
   "metadata": {},
   "outputs": [
    {
     "data": {
      "text/plain": [
       "2-dimensional DenseAxisArray{VariableRef,2,...} with index sets:\n",
       "    Dimension 1, [\"zmiana 2\", \"zmiana 1\", \"zmiana 3\"]\n",
       "    Dimension 2, [\"dzielnica 1\", \"dzielnica 2\", \"dzielnica 3\"]\n",
       "And data, a 3×3 Matrix{VariableRef}:\n",
       " x[zmiana 2,dzielnica 1]  x[zmiana 2,dzielnica 2]  x[zmiana 2,dzielnica 3]\n",
       " x[zmiana 1,dzielnica 1]  x[zmiana 1,dzielnica 2]  x[zmiana 1,dzielnica 3]\n",
       " x[zmiana 3,dzielnica 1]  x[zmiana 3,dzielnica 2]  x[zmiana 3,dzielnica 3]"
      ]
     },
     "metadata": {},
     "output_type": "display_data"
    }
   ],
   "source": [
    "@variable(model, x[keys(zmiany), keys(dzielnice)] >= 0)"
   ]
  },
  {
   "cell_type": "markdown",
   "metadata": {},
   "source": [
    "Definicja zmiennej decyzyjnej oznaczająca niezbędną liczbę radiowozów oraz ograniczenie jej wartości do liczb nieujemnych:"
   ]
  },
  {
   "cell_type": "code",
   "execution_count": 5,
   "metadata": {},
   "outputs": [
    {
     "data": {
      "text/latex": [
       "$$ liczba\\_radiowozow $$"
      ],
      "text/plain": [
       "liczba_radiowozow"
      ]
     },
     "metadata": {},
     "output_type": "display_data"
    }
   ],
   "source": [
    "@variable(model, liczba_radiowozow >= 0)"
   ]
  },
  {
   "cell_type": "markdown",
   "metadata": {},
   "source": [
    "Ograniczenie minimalnej liczby radiowozów w danej dzielnicy na danej zmianie:"
   ]
  },
  {
   "cell_type": "code",
   "execution_count": 6,
   "metadata": {},
   "outputs": [
    {
     "data": {
      "text/plain": [
       "2-dimensional DenseAxisArray{ConstraintRef{Model, MathOptInterface.ConstraintIndex{MathOptInterface.ScalarAffineFunction{Float64}, MathOptInterface.GreaterThan{Float64}}, ScalarShape},2,...} with index sets:\n",
       "    Dimension 1, [\"dzielnica 1\", \"dzielnica 2\", \"dzielnica 3\"]\n",
       "    Dimension 2, [\"zmiana 2\", \"zmiana 1\", \"zmiana 3\"]\n",
       "And data, a 3×3 Matrix{ConstraintRef{Model, MathOptInterface.ConstraintIndex{MathOptInterface.ScalarAffineFunction{Float64}, MathOptInterface.GreaterThan{Float64}}, ScalarShape}}:\n",
       " x[zmiana 2,dzielnica 1] ≥ 4.0  …  x[zmiana 3,dzielnica 1] ≥ 3.0\n",
       " x[zmiana 2,dzielnica 2] ≥ 6.0     x[zmiana 3,dzielnica 2] ≥ 5.0\n",
       " x[zmiana 2,dzielnica 3] ≥ 7.0     x[zmiana 3,dzielnica 3] ≥ 6.0"
      ]
     },
     "metadata": {},
     "output_type": "display_data"
    }
   ],
   "source": [
    "@constraint(model, \n",
    "    [dzielnica in keys(dzielnice), zmiana in keys(zmiany)], \n",
    "    x[zmiana, dzielnica] >= ograniczenia[dzielnica][zmiana][\"min\"])"
   ]
  },
  {
   "cell_type": "markdown",
   "metadata": {},
   "source": [
    "Ograniczenie maksymalnej liczby radiowozów w danej dzielnicy na danej zmianie:"
   ]
  },
  {
   "cell_type": "code",
   "execution_count": 7,
   "metadata": {},
   "outputs": [
    {
     "data": {
      "text/plain": [
       "2-dimensional DenseAxisArray{ConstraintRef{Model, MathOptInterface.ConstraintIndex{MathOptInterface.ScalarAffineFunction{Float64}, MathOptInterface.LessThan{Float64}}, ScalarShape},2,...} with index sets:\n",
       "    Dimension 1, [\"dzielnica 1\", \"dzielnica 2\", \"dzielnica 3\"]\n",
       "    Dimension 2, [\"zmiana 2\", \"zmiana 1\", \"zmiana 3\"]\n",
       "And data, a 3×3 Matrix{ConstraintRef{Model, MathOptInterface.ConstraintIndex{MathOptInterface.ScalarAffineFunction{Float64}, MathOptInterface.LessThan{Float64}}, ScalarShape}}:\n",
       " x[zmiana 2,dzielnica 1] ≤ 7.0   …  x[zmiana 3,dzielnica 1] ≤ 5.0\n",
       " x[zmiana 2,dzielnica 2] ≤ 7.0      x[zmiana 3,dzielnica 2] ≤ 10.0\n",
       " x[zmiana 2,dzielnica 3] ≤ 12.0     x[zmiana 3,dzielnica 3] ≤ 10.0"
      ]
     },
     "metadata": {},
     "output_type": "display_data"
    }
   ],
   "source": [
    "@constraint(model, \n",
    "    [dzielnica in keys(dzielnice), zmiana in keys(zmiany)], \n",
    "    x[zmiana, dzielnica] <= ograniczenia[dzielnica][zmiana][\"max\"])"
   ]
  },
  {
   "cell_type": "markdown",
   "metadata": {},
   "source": [
    "Ograniczenie minimalnej liczby radiowozów w danej dzielnicy"
   ]
  },
  {
   "cell_type": "code",
   "execution_count": 8,
   "metadata": {},
   "outputs": [
    {
     "data": {
      "text/plain": [
       "1-dimensional DenseAxisArray{ConstraintRef{Model, MathOptInterface.ConstraintIndex{MathOptInterface.ScalarAffineFunction{Float64}, MathOptInterface.GreaterThan{Float64}}, ScalarShape},1,...} with index sets:\n",
       "    Dimension 1, [\"dzielnica 1\", \"dzielnica 2\", \"dzielnica 3\"]\n",
       "And data, a 3-element Vector{ConstraintRef{Model, MathOptInterface.ConstraintIndex{MathOptInterface.ScalarAffineFunction{Float64}, MathOptInterface.GreaterThan{Float64}}, ScalarShape}}:\n",
       " x[zmiana 2,dzielnica 1] + x[zmiana 1,dzielnica 1] + x[zmiana 3,dzielnica 1] ≥ 10.0\n",
       " x[zmiana 2,dzielnica 2] + x[zmiana 1,dzielnica 2] + x[zmiana 3,dzielnica 2] ≥ 14.0\n",
       " x[zmiana 2,dzielnica 3] + x[zmiana 1,dzielnica 3] + x[zmiana 3,dzielnica 3] ≥ 13.0"
      ]
     },
     "metadata": {},
     "output_type": "display_data"
    }
   ],
   "source": [
    "@constraint(model, \n",
    "    [dzielnica in keys(dzielnice)], sum(x[:, dzielnica]) >= dzielnice[dzielnica][\"obsada\"])"
   ]
  },
  {
   "cell_type": "markdown",
   "metadata": {},
   "source": [
    "Ograniczenie minimalnej liczby radiowozów na danej zmianie:"
   ]
  },
  {
   "cell_type": "code",
   "execution_count": 9,
   "metadata": {},
   "outputs": [
    {
     "data": {
      "text/plain": [
       "1-dimensional DenseAxisArray{ConstraintRef{Model, MathOptInterface.ConstraintIndex{MathOptInterface.ScalarAffineFunction{Float64}, MathOptInterface.GreaterThan{Float64}}, ScalarShape},1,...} with index sets:\n",
       "    Dimension 1, [\"zmiana 2\", \"zmiana 1\", \"zmiana 3\"]\n",
       "And data, a 3-element Vector{ConstraintRef{Model, MathOptInterface.ConstraintIndex{MathOptInterface.ScalarAffineFunction{Float64}, MathOptInterface.GreaterThan{Float64}}, ScalarShape}}:\n",
       " x[zmiana 2,dzielnica 1] + x[zmiana 2,dzielnica 2] + x[zmiana 2,dzielnica 3] ≥ 20.0\n",
       " x[zmiana 1,dzielnica 1] + x[zmiana 1,dzielnica 2] + x[zmiana 1,dzielnica 3] ≥ 10.0\n",
       " x[zmiana 3,dzielnica 1] + x[zmiana 3,dzielnica 2] + x[zmiana 3,dzielnica 3] ≥ 18.0"
      ]
     },
     "metadata": {},
     "output_type": "display_data"
    }
   ],
   "source": [
    "@constraint(model, \n",
    "    [zmiana in keys(zmiany)], sum(x[zmiana, :]) >= zmiany[zmiana][\"obsada\"])"
   ]
  },
  {
   "cell_type": "markdown",
   "metadata": {},
   "source": [
    "Ograniczenie niezbędnej liczby radiowozów:"
   ]
  },
  {
   "cell_type": "code",
   "execution_count": 10,
   "metadata": {},
   "outputs": [
    {
     "data": {
      "text/plain": [
       "1-dimensional DenseAxisArray{ConstraintRef{Model, MathOptInterface.ConstraintIndex{MathOptInterface.ScalarAffineFunction{Float64}, MathOptInterface.GreaterThan{Float64}}, ScalarShape},1,...} with index sets:\n",
       "    Dimension 1, [\"zmiana 2\", \"zmiana 1\", \"zmiana 3\"]\n",
       "And data, a 3-element Vector{ConstraintRef{Model, MathOptInterface.ConstraintIndex{MathOptInterface.ScalarAffineFunction{Float64}, MathOptInterface.GreaterThan{Float64}}, ScalarShape}}:\n",
       " -x[zmiana 2,dzielnica 1] - x[zmiana 2,dzielnica 2] - x[zmiana 2,dzielnica 3] + liczba_radiowozow ≥ 0.0\n",
       " -x[zmiana 1,dzielnica 1] - x[zmiana 1,dzielnica 2] - x[zmiana 1,dzielnica 3] + liczba_radiowozow ≥ 0.0\n",
       " -x[zmiana 3,dzielnica 1] - x[zmiana 3,dzielnica 2] - x[zmiana 3,dzielnica 3] + liczba_radiowozow ≥ 0.0"
      ]
     },
     "metadata": {},
     "output_type": "display_data"
    }
   ],
   "source": [
    "@constraint(model, [zmiana in keys(zmiany)], liczba_radiowozow >= sum(x[zmiana, :]))"
   ]
  },
  {
   "cell_type": "markdown",
   "metadata": {},
   "source": [
    "Funkcja kosztu(niezbędna liczba radiowozów):"
   ]
  },
  {
   "cell_type": "code",
   "execution_count": 11,
   "metadata": {},
   "outputs": [
    {
     "data": {
      "text/latex": [
       "$$ liczba\\_radiowozow $$"
      ],
      "text/plain": [
       "liczba_radiowozow"
      ]
     },
     "metadata": {},
     "output_type": "display_data"
    }
   ],
   "source": [
    "@objective(model, Min, liczba_radiowozow)"
   ]
  },
  {
   "cell_type": "code",
   "execution_count": 12,
   "metadata": {},
   "outputs": [],
   "source": [
    "optimize!(model)"
   ]
  },
  {
   "cell_type": "code",
   "execution_count": 13,
   "metadata": {},
   "outputs": [
    {
     "data": {
      "text/plain": [
       "* Solver : GLPK\n",
       "\n",
       "* Status\n",
       "  Result count       : 1\n",
       "  Termination status : OPTIMAL\n",
       "  Message from the solver:\n",
       "  \"Solution is optimal\"\n",
       "\n",
       "* Candidate solution (result #1)\n",
       "  Primal status      : FEASIBLE_POINT\n",
       "  Dual status        : FEASIBLE_POINT\n",
       "  Objective value    : 2.00000e+01\n",
       "  Objective bound    : -Inf\n",
       "  Dual objective value : 2.00000e+01\n",
       "\n",
       "* Work counters\n",
       "  Solve time (sec)   : 2.31028e-04\n"
      ]
     },
     "metadata": {},
     "output_type": "display_data"
    }
   ],
   "source": [
    "solution_summary(model)"
   ]
  },
  {
   "cell_type": "code",
   "execution_count": 14,
   "metadata": {},
   "outputs": [
    {
     "data": {
      "text/plain": [
       "20.0"
      ]
     },
     "metadata": {},
     "output_type": "display_data"
    }
   ],
   "source": [
    "JuMP.objective_value(model)"
   ]
  },
  {
   "cell_type": "code",
   "execution_count": 15,
   "metadata": {},
   "outputs": [
    {
     "name": "stdout",
     "output_type": "stream",
     "text": [
      "Liczba radiowozow: 20.0\n",
      "dzielnica 1 i zmiana 1: 3.0\n",
      "dzielnica 1 i zmiana 2: 4.0\n",
      "dzielnica 1 i zmiana 3: 5.0\n",
      "dzielnica 2 i zmiana 1: 3.0\n",
      "dzielnica 2 i zmiana 2: 7.0\n",
      "dzielnica 2 i zmiana 3: 7.0\n",
      "dzielnica 3 i zmiana 1: 8.0\n",
      "dzielnica 3 i zmiana 2: 9.0\n",
      "dzielnica 3 i zmiana 3: 6.0\n"
     ]
    }
   ],
   "source": [
    "println(\"Liczba radiowozow: \", value(liczba_radiowozow))\n",
    "\n",
    "for dzielnica in sort!(collect(keys(dzielnice))), zmiana in sort!(collect(keys(zmiany)))\n",
    "    println(dzielnica, \" i \", zmiana, \": \", value(x[zmiana, dzielnica]))\n",
    "end"
   ]
  }
 ],
 "metadata": {
  "kernelspec": {
   "display_name": "Julia 1.8.5",
   "language": "julia",
   "name": "julia-1.8"
  },
  "language_info": {
   "file_extension": ".jl",
   "mimetype": "application/julia",
   "name": "julia",
   "version": "1.8.5"
  },
  "orig_nbformat": 4,
  "vscode": {
   "interpreter": {
    "hash": "e7370f93d1d0cde622a1f8e1c04877d8463912d04d973331ad4851f04de6915a"
   }
  }
 },
 "nbformat": 4,
 "nbformat_minor": 2
}
