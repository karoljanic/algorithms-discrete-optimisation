{
 "cells": [
  {
   "cell_type": "markdown",
   "metadata": {},
   "source": [
    "Karol Janic\n",
    "\n",
    "kwiecień 2023\n",
    "\n",
    "zad4.ipynb - Plan monitoringu terenu z kontenerami zawierającymi cenny ładunek."
   ]
  },
  {
   "cell_type": "code",
   "execution_count": 155,
   "metadata": {},
   "outputs": [],
   "source": [
    "using JuMP\n",
    "using GLPK\n",
    "\n",
    "using JSON"
   ]
  },
  {
   "cell_type": "code",
   "execution_count": 156,
   "metadata": {},
   "outputs": [
    {
     "data": {
      "text/plain": [
       "Dict{String, Any} with 12 entries:\n",
       "  \"kontener_4\"  => Dict{String, Any}(\"x\"=>0, \"y\"=>1)\n",
       "  \"kontener_3\"  => Dict{String, Any}(\"x\"=>4, \"y\"=>0)\n",
       "  \"kontener_5\"  => Dict{String, Any}(\"x\"=>1, \"y\"=>2)\n",
       "  \"kontener_9\"  => Dict{String, Any}(\"x\"=>3, \"y\"=>3)\n",
       "  \"kontener_7\"  => Dict{String, Any}(\"x\"=>1, \"y\"=>3)\n",
       "  \"kontener_8\"  => Dict{String, Any}(\"x\"=>2, \"y\"=>3)\n",
       "  \"kontener_11\" => Dict{String, Any}(\"x\"=>1, \"y\"=>4)\n",
       "  \"kontener_10\" => Dict{String, Any}(\"x\"=>0, \"y\"=>4)\n",
       "  \"kontener_1\"  => Dict{String, Any}(\"x\"=>0, \"y\"=>0)\n",
       "  \"kontener_6\"  => Dict{String, Any}(\"x\"=>3, \"y\"=>2)\n",
       "  \"kontener_2\"  => Dict{String, Any}(\"x\"=>2, \"y\"=>0)\n",
       "  \"kontener_12\" => Dict{String, Any}(\"x\"=>4, \"y\"=>4)"
      ]
     },
     "metadata": {},
     "output_type": "display_data"
    }
   ],
   "source": [
    "dane_wejsciowe = JSON.parse(read(\"data4.json\", String))\n",
    "\n",
    "n = dane_wejsciowe[\"n\"]\n",
    "m = dane_wejsciowe[\"m\"]\n",
    "k = dane_wejsciowe[\"k\"]\n",
    "\n",
    "polozenia = dane_wejsciowe[\"polozenia\"]"
   ]
  },
  {
   "cell_type": "code",
   "execution_count": 157,
   "metadata": {},
   "outputs": [
    {
     "data": {
      "text/plain": [
       "A JuMP Model\n",
       "Feasibility problem with:\n",
       "Variables: 0\n",
       "Model mode: AUTOMATIC\n",
       "CachingOptimizer state: EMPTY_OPTIMIZER\n",
       "Solver name: GLPK"
      ]
     },
     "metadata": {},
     "output_type": "display_data"
    }
   ],
   "source": [
    "model = Model(GLPK.Optimizer)"
   ]
  },
  {
   "cell_type": "markdown",
   "metadata": {},
   "source": [
    "Definicja zmiennych decyzyjnych(informacja czy na danym polu znajduje się kamera) oraz ograniczenie ich wartości do 0 i 1:"
   ]
  },
  {
   "cell_type": "code",
   "execution_count": 158,
   "metadata": {},
   "outputs": [
    {
     "data": {
      "text/plain": [
       "2-dimensional DenseAxisArray{VariableRef,2,...} with index sets:\n",
       "    Dimension 1, 0:4\n",
       "    Dimension 2, 0:4\n",
       "And data, a 5×5 Matrix{VariableRef}:\n",
       " x[0,0]  x[0,1]  x[0,2]  x[0,3]  x[0,4]\n",
       " x[1,0]  x[1,1]  x[1,2]  x[1,3]  x[1,4]\n",
       " x[2,0]  x[2,1]  x[2,2]  x[2,3]  x[2,4]\n",
       " x[3,0]  x[3,1]  x[3,2]  x[3,3]  x[3,4]\n",
       " x[4,0]  x[4,1]  x[4,2]  x[4,3]  x[4,4]"
      ]
     },
     "metadata": {},
     "output_type": "display_data"
    }
   ],
   "source": [
    "@variable(model, x[range(0, n - 1), range(0, m - 1)], Bin)"
   ]
  },
  {
   "cell_type": "markdown",
   "metadata": {},
   "source": [
    "Ograniczenie na niemożność umieszczenia kamery w miejscu, gdzie znajduje się kontener:"
   ]
  },
  {
   "cell_type": "code",
   "execution_count": 159,
   "metadata": {},
   "outputs": [
    {
     "data": {
      "text/plain": [
       "1-dimensional DenseAxisArray{ConstraintRef{Model, MathOptInterface.ConstraintIndex{MathOptInterface.ScalarAffineFunction{Float64}, MathOptInterface.EqualTo{Float64}}, ScalarShape},1,...} with index sets:\n",
       "    Dimension 1, [\"kontener_4\", \"kontener_3\", \"kontener_5\", \"kontener_9\", \"kontener_7\", \"kontener_8\", \"kontener_11\", \"kontener_10\", \"kontener_1\", \"kontener_6\", \"kontener_2\", \"kontener_12\"]\n",
       "And data, a 12-element Vector{ConstraintRef{Model, MathOptInterface.ConstraintIndex{MathOptInterface.ScalarAffineFunction{Float64}, MathOptInterface.EqualTo{Float64}}, ScalarShape}}:\n",
       " x[0,1] = 0.0\n",
       " x[4,0] = 0.0\n",
       " x[1,2] = 0.0\n",
       " x[3,3] = 0.0\n",
       " x[1,3] = 0.0\n",
       " x[2,3] = 0.0\n",
       " x[1,4] = 0.0\n",
       " x[0,4] = 0.0\n",
       " x[0,0] = 0.0\n",
       " x[3,2] = 0.0\n",
       " x[2,0] = 0.0\n",
       " x[4,4] = 0.0"
      ]
     },
     "metadata": {},
     "output_type": "display_data"
    }
   ],
   "source": [
    "@constraint(model, \n",
    "    [kontener in keys(polozenia)], x[polozenia[kontener][\"x\"], polozenia[kontener][\"y\"]] == 0)"
   ]
  },
  {
   "cell_type": "markdown",
   "metadata": {},
   "source": [
    "Ograniczenie aby chociaż jedna kamera znajdowała się w zasięgu k od każdego kontenera:"
   ]
  },
  {
   "cell_type": "code",
   "execution_count": 160,
   "metadata": {},
   "outputs": [],
   "source": [
    "for kontener in keys(polozenia)\n",
    "    pos_x = polozenia[kontener][\"x\"]\n",
    "    pos_y = polozenia[kontener][\"y\"]\n",
    "\n",
    "    @constraint(model, \n",
    "        sum(x[pos_x, j] for j in max(pos_y - k, 0) : min(pos_y + k, m - 1)) +\n",
    "        sum(x[i, pos_y] for i in max(pos_x - k, 0) : min(pos_x + k, n - 1)) >= 1)\n",
    "end"
   ]
  },
  {
   "cell_type": "markdown",
   "metadata": {},
   "source": [
    "Funkcja kosztu(niezbędna liczba kamer):"
   ]
  },
  {
   "cell_type": "code",
   "execution_count": 161,
   "metadata": {},
   "outputs": [
    {
     "data": {
      "text/latex": [
       "$$ x_{0,0} + x_{0,1} + x_{0,2} + x_{0,3} + x_{0,4} + x_{1,0} + x_{1,1} + x_{1,2} + x_{1,3} + x_{1,4} + x_{2,0} + x_{2,1} + x_{2,2} + x_{2,3} + x_{2,4} + x_{3,0} + x_{3,1} + x_{3,2} + x_{3,3} + x_{3,4} + x_{4,0} + x_{4,1} + x_{4,2} + x_{4,3} + x_{4,4} $$"
      ],
      "text/plain": [
       "x[0,0] + x[0,1] + x[0,2] + x[0,3] + x[0,4] + x[1,0] + x[1,1] + x[1,2] + x[1,3] + x[1,4] + x[2,0] + x[2,1] + x[2,2] + x[2,3] + x[2,4] + x[3,0] + x[3,1] + x[3,2] + x[3,3] + x[3,4] + x[4,0] + x[4,1] + x[4,2] + x[4,3] + x[4,4]"
      ]
     },
     "metadata": {},
     "output_type": "display_data"
    }
   ],
   "source": [
    "@objective(model, Min, \n",
    "    sum(x[idx_x, idx_y] for idx_x in range(0, n - 1), idx_y in range(0, m - 1)))"
   ]
  },
  {
   "cell_type": "code",
   "execution_count": 162,
   "metadata": {},
   "outputs": [],
   "source": [
    "optimize!(model)"
   ]
  },
  {
   "cell_type": "code",
   "execution_count": 163,
   "metadata": {},
   "outputs": [
    {
     "data": {
      "text/plain": [
       "* Solver : GLPK\n",
       "\n",
       "* Status\n",
       "  Result count       : 1\n",
       "  Termination status : OPTIMAL\n",
       "  Message from the solver:\n",
       "  \"Solution is optimal\"\n",
       "\n",
       "* Candidate solution (result #1)\n",
       "  Primal status      : FEASIBLE_POINT\n",
       "  Dual status        : NO_SOLUTION\n",
       "  Objective value    : 7.00000e+00\n",
       "  Objective bound    : 7.00000e+00\n",
       "  Relative gap       : 0.00000e+00\n",
       "\n",
       "* Work counters\n",
       "  Solve time (sec)   : 9.48906e-05\n"
      ]
     },
     "metadata": {},
     "output_type": "display_data"
    }
   ],
   "source": [
    "solution_summary(model)"
   ]
  },
  {
   "cell_type": "code",
   "execution_count": 164,
   "metadata": {},
   "outputs": [
    {
     "data": {
      "text/plain": [
       "7.0"
      ]
     },
     "metadata": {},
     "output_type": "display_data"
    }
   ],
   "source": [
    "JuMP.objective_value(model)"
   ]
  },
  {
   "cell_type": "code",
   "execution_count": 165,
   "metadata": {},
   "outputs": [
    {
     "name": "stdout",
     "output_type": "stream",
     "text": [
      "0.0 1.0 0.0 1.0 0.0 \n",
      "0.0 1.0 0.0 0.0 0.0 \n",
      "0.0 0.0 1.0 0.0 0.0 \n",
      "1.0 0.0 0.0 0.0 1.0 \n",
      "0.0 0.0 1.0 0.0 0.0 \n"
     ]
    }
   ],
   "source": [
    "for index_x in range(0, n - 1)\n",
    "    for index_y in range(0, m - 1)\n",
    "        print(value(x[index_y, index_x]), \" \") \n",
    "    end\n",
    "    println(\"\")\n",
    "end"
   ]
  }
 ],
 "metadata": {
  "kernelspec": {
   "display_name": "Julia 1.8.5",
   "language": "julia",
   "name": "julia-1.8"
  },
  "language_info": {
   "file_extension": ".jl",
   "mimetype": "application/julia",
   "name": "julia",
   "version": "1.8.5"
  },
  "orig_nbformat": 4,
  "vscode": {
   "interpreter": {
    "hash": "e7370f93d1d0cde622a1f8e1c04877d8463912d04d973331ad4851f04de6915a"
   }
  }
 },
 "nbformat": 4,
 "nbformat_minor": 2
}
