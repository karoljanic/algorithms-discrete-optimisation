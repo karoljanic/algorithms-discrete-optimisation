{
 "cells": [
  {
   "cell_type": "markdown",
   "metadata": {},
   "source": [
    "Karol Janic\n",
    "\n",
    "kwiecień 2023\n",
    "\n",
    "zad1.ipynb - Minimalizacja kosztu zakupu i dostawy paliwa dla lotnisk."
   ]
  },
  {
   "cell_type": "code",
   "execution_count": 16,
   "metadata": {},
   "outputs": [],
   "source": [
    "using JuMP\n",
    "using GLPK\n",
    "\n",
    "using JSON"
   ]
  },
  {
   "cell_type": "code",
   "execution_count": 17,
   "metadata": {},
   "outputs": [
    {
     "data": {
      "text/plain": [
       "Dict{String, Any} with 4 entries:\n",
       "  \"Lotnisko 3\" => Dict{String, Any}(\"Firma 1\"=>9, \"Firma 3\"=>4, \"Firma 2\"=>12)\n",
       "  \"Lotnisko 2\" => Dict{String, Any}(\"Firma 1\"=>10, \"Firma 3\"=>14, \"Firma 2\"=>11)\n",
       "  \"Lotnisko 4\" => Dict{String, Any}(\"Firma 1\"=>11, \"Firma 3\"=>9, \"Firma 2\"=>13)\n",
       "  \"Lotnisko 1\" => Dict{String, Any}(\"Firma 1\"=>10, \"Firma 3\"=>8, \"Firma 2\"=>7)"
      ]
     },
     "metadata": {},
     "output_type": "display_data"
    }
   ],
   "source": [
    "dane_wejsciowe = JSON.parse(read(\"data1.json\", String))\n",
    "\n",
    "lotniska = dane_wejsciowe[\"lotniska\"]\n",
    "firmy = dane_wejsciowe[\"firmy\"]\n",
    "koszty = dane_wejsciowe[\"koszty\"]"
   ]
  },
  {
   "cell_type": "code",
   "execution_count": 18,
   "metadata": {},
   "outputs": [
    {
     "data": {
      "text/plain": [
       "A JuMP Model\n",
       "Feasibility problem with:\n",
       "Variables: 0\n",
       "Model mode: AUTOMATIC\n",
       "CachingOptimizer state: EMPTY_OPTIMIZER\n",
       "Solver name: GLPK"
      ]
     },
     "metadata": {},
     "output_type": "display_data"
    }
   ],
   "source": [
    "model = Model(GLPK.Optimizer)"
   ]
  },
  {
   "cell_type": "markdown",
   "metadata": {},
   "source": [
    "Definicja zmiennych decyzyjnych(liczba galonów paliwa zamawianego przez dane lotnisko od danej firmy) oraz\n",
    "ograniczenie ich wartości do liczb nieujemnych:"
   ]
  },
  {
   "cell_type": "code",
   "execution_count": 19,
   "metadata": {},
   "outputs": [
    {
     "data": {
      "text/plain": [
       "2-dimensional DenseAxisArray{VariableRef,2,...} with index sets:\n",
       "    Dimension 1, [\"Firma 1\", \"Firma 3\", \"Firma 2\"]\n",
       "    Dimension 2, [\"Lotnisko 3\", \"Lotnisko 2\", \"Lotnisko 4\", \"Lotnisko 1\"]\n",
       "And data, a 3×4 Matrix{VariableRef}:\n",
       " x[Firma 1,Lotnisko 3]  x[Firma 1,Lotnisko 2]  …  x[Firma 1,Lotnisko 1]\n",
       " x[Firma 3,Lotnisko 3]  x[Firma 3,Lotnisko 2]     x[Firma 3,Lotnisko 1]\n",
       " x[Firma 2,Lotnisko 3]  x[Firma 2,Lotnisko 2]     x[Firma 2,Lotnisko 1]"
      ]
     },
     "metadata": {},
     "output_type": "display_data"
    }
   ],
   "source": [
    "@variable(model, x[keys(firmy), keys(lotniska)] >= 0)"
   ]
  },
  {
   "cell_type": "markdown",
   "metadata": {},
   "source": [
    "Ograniczenie zasobów firm:"
   ]
  },
  {
   "cell_type": "code",
   "execution_count": 20,
   "metadata": {},
   "outputs": [
    {
     "data": {
      "text/plain": [
       "1-dimensional DenseAxisArray{ConstraintRef{Model, MathOptInterface.ConstraintIndex{MathOptInterface.ScalarAffineFunction{Float64}, MathOptInterface.LessThan{Float64}}, ScalarShape},1,...} with index sets:\n",
       "    Dimension 1, [\"Firma 1\", \"Firma 3\", \"Firma 2\"]\n",
       "And data, a 3-element Vector{ConstraintRef{Model, MathOptInterface.ConstraintIndex{MathOptInterface.ScalarAffineFunction{Float64}, MathOptInterface.LessThan{Float64}}, ScalarShape}}:\n",
       " x[Firma 1,Lotnisko 3] + x[Firma 1,Lotnisko 2] + x[Firma 1,Lotnisko 4] + x[Firma 1,Lotnisko 1] ≤ 275000.0\n",
       " x[Firma 3,Lotnisko 3] + x[Firma 3,Lotnisko 2] + x[Firma 3,Lotnisko 4] + x[Firma 3,Lotnisko 1] ≤ 660000.0\n",
       " x[Firma 2,Lotnisko 3] + x[Firma 2,Lotnisko 2] + x[Firma 2,Lotnisko 4] + x[Firma 2,Lotnisko 1] ≤ 550000.0"
      ]
     },
     "metadata": {},
     "output_type": "display_data"
    }
   ],
   "source": [
    "@constraint(model, \n",
    "    [firma in keys(firmy)], sum(x[firma, :]) <= firmy[firma][\"zasoby\"])"
   ]
  },
  {
   "cell_type": "markdown",
   "metadata": {},
   "source": [
    "Ograniczenie zapotrzebowań lotnisk:"
   ]
  },
  {
   "cell_type": "code",
   "execution_count": 21,
   "metadata": {},
   "outputs": [
    {
     "data": {
      "text/plain": [
       "1-dimensional DenseAxisArray{ConstraintRef{Model, MathOptInterface.ConstraintIndex{MathOptInterface.ScalarAffineFunction{Float64}, MathOptInterface.GreaterThan{Float64}}, ScalarShape},1,...} with index sets:\n",
       "    Dimension 1, [\"Lotnisko 3\", \"Lotnisko 2\", \"Lotnisko 4\", \"Lotnisko 1\"]\n",
       "And data, a 4-element Vector{ConstraintRef{Model, MathOptInterface.ConstraintIndex{MathOptInterface.ScalarAffineFunction{Float64}, MathOptInterface.GreaterThan{Float64}}, ScalarShape}}:\n",
       " x[Firma 1,Lotnisko 3] + x[Firma 3,Lotnisko 3] + x[Firma 2,Lotnisko 3] ≥ 330000.0\n",
       " x[Firma 1,Lotnisko 2] + x[Firma 3,Lotnisko 2] + x[Firma 2,Lotnisko 2] ≥ 220000.0\n",
       " x[Firma 1,Lotnisko 4] + x[Firma 3,Lotnisko 4] + x[Firma 2,Lotnisko 4] ≥ 440000.0\n",
       " x[Firma 1,Lotnisko 1] + x[Firma 3,Lotnisko 1] + x[Firma 2,Lotnisko 1] ≥ 110000.0"
      ]
     },
     "metadata": {},
     "output_type": "display_data"
    }
   ],
   "source": [
    "@constraint(model, \n",
    "    [lotnisko in keys(lotniska)], sum(x[:, lotnisko]) >= lotniska[lotnisko][\"zapotrzebowanie\"])"
   ]
  },
  {
   "cell_type": "markdown",
   "metadata": {},
   "source": [
    "Funkcja kosztu w dolarach(liczba galonów zamawianego paliwa * cena kupna i dostarczenia jednego galonu paliwa w dolarach na galon)"
   ]
  },
  {
   "cell_type": "code",
   "execution_count": 22,
   "metadata": {},
   "outputs": [],
   "source": [
    "@objective(model, Min, \n",
    "    sum(koszty[lotnisko][firma] * x[firma, lotnisko] for firma in keys(firmy), lotnisko in keys(lotniska)));"
   ]
  },
  {
   "cell_type": "code",
   "execution_count": 23,
   "metadata": {},
   "outputs": [],
   "source": [
    "optimize!(model)"
   ]
  },
  {
   "cell_type": "code",
   "execution_count": 24,
   "metadata": {},
   "outputs": [
    {
     "data": {
      "text/plain": [
       "* Solver : GLPK\n",
       "\n",
       "* Status\n",
       "  Result count       : 1\n",
       "  Termination status : OPTIMAL\n",
       "  Message from the solver:\n",
       "  \"Solution is optimal\"\n",
       "\n",
       "* Candidate solution (result #1)\n",
       "  Primal status      : FEASIBLE_POINT\n",
       "  Dual status        : FEASIBLE_POINT\n",
       "  Objective value    : 8.52500e+06\n",
       "  Objective bound    : -Inf\n",
       "  Dual objective value : 8.52500e+06\n",
       "\n",
       "* Work counters\n",
       "  Solve time (sec)   : 5.88894e-05\n"
      ]
     },
     "metadata": {},
     "output_type": "display_data"
    }
   ],
   "source": [
    "solution_summary(model)"
   ]
  },
  {
   "cell_type": "code",
   "execution_count": 25,
   "metadata": {},
   "outputs": [
    {
     "data": {
      "text/plain": [
       "8.525e6"
      ]
     },
     "metadata": {},
     "output_type": "display_data"
    }
   ],
   "source": [
    "JuMP.objective_value(model)"
   ]
  },
  {
   "cell_type": "code",
   "execution_count": 26,
   "metadata": {},
   "outputs": [
    {
     "name": "stdout",
     "output_type": "stream",
     "text": [
      "Firma 1 dostarcza 0.0 galonow paliwa dla Lotnisko 1\n",
      "Firma 2 dostarcza 110000.0 galonow paliwa dla Lotnisko 1\n",
      "Firma 3 dostarcza 0.0 galonow paliwa dla Lotnisko 1\n",
      "Firma 1 dostarcza 165000.0 galonow paliwa dla Lotnisko 2\n",
      "Firma 2 dostarcza 55000.0 galonow paliwa dla Lotnisko 2\n",
      "Firma 3 dostarcza 0.0 galonow paliwa dla Lotnisko 2\n",
      "Firma 1 dostarcza 0.0 galonow paliwa dla Lotnisko 3\n",
      "Firma 2 dostarcza 0.0 galonow paliwa dla Lotnisko 3\n",
      "Firma 3 dostarcza 330000.0 galonow paliwa dla Lotnisko 3\n",
      "Firma 1 dostarcza 110000.0 galonow paliwa dla Lotnisko 4\n",
      "Firma 2 dostarcza 0.0 galonow paliwa dla Lotnisko 4\n",
      "Firma 3 dostarcza 330000.0 galonow paliwa dla Lotnisko 4\n"
     ]
    }
   ],
   "source": [
    "for lotnisko in sort!(collect(keys(lotniska))), firma in sort!(collect(keys(firmy)))\n",
    "    println(firma, \" dostarcza \", value(x[firma, lotnisko]), \" galonow paliwa dla \", lotnisko)\n",
    "end"
   ]
  },
  {
   "cell_type": "code",
   "execution_count": 27,
   "metadata": {},
   "outputs": [
    {
     "name": "stdout",
     "output_type": "stream",
     "text": [
      "Firma 1 dostarcza 275000.0 paliwa\n",
      "Firma 2 dostarcza 165000.0 paliwa\n",
      "Firma 3 dostarcza 660000.0 paliwa\n"
     ]
    }
   ],
   "source": [
    "for firma in sort!(collect(keys(firmy)))\n",
    "    println(firma, \" dostarcza \", value(sum(x[firma, :])), \" paliwa\")\n",
    "end"
   ]
  },
  {
   "cell_type": "code",
   "execution_count": 28,
   "metadata": {},
   "outputs": [
    {
     "name": "stdout",
     "output_type": "stream",
     "text": [
      "Firma 1 nie ma juz paliwa\n",
      "Firma 2 ma jescze paliwo\n",
      "Firma 3 nie ma juz paliwa\n"
     ]
    }
   ],
   "source": [
    "for firma in sort!(collect(keys(firmy)))\n",
    "    if value(sum(x[firma, :])) < firmy[firma][\"zasoby\"]\n",
    "        println(firma, \" ma jescze paliwo\")\n",
    "    else \n",
    "        println(firma, \" nie ma juz paliwa\")\n",
    "    end\n",
    "end "
   ]
  }
 ],
 "metadata": {
  "kernelspec": {
   "display_name": "Julia 1.8.5",
   "language": "julia",
   "name": "julia-1.8"
  },
  "language_info": {
   "file_extension": ".jl",
   "mimetype": "application/julia",
   "name": "julia",
   "version": "1.8.5"
  },
  "orig_nbformat": 4,
  "vscode": {
   "interpreter": {
    "hash": "e7370f93d1d0cde622a1f8e1c04877d8463912d04d973331ad4851f04de6915a"
   }
  }
 },
 "nbformat": 4,
 "nbformat_minor": 2
}
