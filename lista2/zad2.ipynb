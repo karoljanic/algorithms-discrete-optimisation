{
 "cells": [
  {
   "cell_type": "markdown",
   "metadata": {},
   "source": [
    "Karol Janic\n",
    "\n",
    "kwiecień 2023\n",
    "\n",
    "zad2.ipynb - Znajdowanie najkrótszej ścieżki pomiędzy miastami z ograniczeniem czasowym."
   ]
  },
  {
   "cell_type": "code",
   "execution_count": 1,
   "metadata": {},
   "outputs": [],
   "source": [
    "using JuMP\n",
    "using GLPK\n",
    "\n",
    "using JSON"
   ]
  },
  {
   "cell_type": "code",
   "execution_count": 2,
   "metadata": {},
   "outputs": [
    {
     "data": {
      "text/plain": [
       "440"
      ]
     },
     "metadata": {},
     "output_type": "display_data"
    }
   ],
   "source": [
    "dane_wejsciowe = JSON.parse(read(\"data2.json\", String))\n",
    "\n",
    "miasta = dane_wejsciowe[\"miasta\"]\n",
    "polaczenia = dane_wejsciowe[\"polaczenia\"]\n",
    "lokalizacja_poczatkowa = dane_wejsciowe[\"lokalizacja_poczatkowa\"]\n",
    "lokalizacja_koncowa = dane_wejsciowe[\"lokalizacja_koncowa\"]\n",
    "ograniczenie_czasowe = dane_wejsciowe[\"ograniczenie_czasowe\"]"
   ]
  },
  {
   "cell_type": "code",
   "execution_count": 3,
   "metadata": {},
   "outputs": [
    {
     "data": {
      "text/plain": [
       "A JuMP Model\n",
       "Feasibility problem with:\n",
       "Variables: 0\n",
       "Model mode: AUTOMATIC\n",
       "CachingOptimizer state: EMPTY_OPTIMIZER\n",
       "Solver name: GLPK"
      ]
     },
     "metadata": {},
     "output_type": "display_data"
    }
   ],
   "source": [
    "model = Model(GLPK.Optimizer)"
   ]
  },
  {
   "cell_type": "markdown",
   "metadata": {},
   "source": [
    "Definicja zmiennych decyzyjnych(informacja czy przejeżdzamy z jednego do drugiego miasta bezpośrednio) oraz ograniczenie ich wartości do 0 lub 1:"
   ]
  },
  {
   "cell_type": "code",
   "execution_count": 4,
   "metadata": {},
   "outputs": [
    {
     "data": {
      "text/plain": [
       "2-dimensional DenseAxisArray{VariableRef,2,...} with index sets:\n",
       "    Dimension 1, Any[\"Warszawa\", \"Krakow\", \"Lodz\", \"Wroclaw\", \"Poznan\", \"Gdansk\", \"Gdynia\", \"Szczecin\", \"Torun\", \"Bydgoszcz\"]\n",
       "    Dimension 2, Any[\"Warszawa\", \"Krakow\", \"Lodz\", \"Wroclaw\", \"Poznan\", \"Gdansk\", \"Gdynia\", \"Szczecin\", \"Torun\", \"Bydgoszcz\"]\n",
       "And data, a 10×10 Matrix{VariableRef}:\n",
       " x[Warszawa,Warszawa]   x[Warszawa,Krakow]   …  x[Warszawa,Bydgoszcz]\n",
       " x[Krakow,Warszawa]     x[Krakow,Krakow]        x[Krakow,Bydgoszcz]\n",
       " x[Lodz,Warszawa]       x[Lodz,Krakow]          x[Lodz,Bydgoszcz]\n",
       " x[Wroclaw,Warszawa]    x[Wroclaw,Krakow]       x[Wroclaw,Bydgoszcz]\n",
       " x[Poznan,Warszawa]     x[Poznan,Krakow]        x[Poznan,Bydgoszcz]\n",
       " x[Gdansk,Warszawa]     x[Gdansk,Krakow]     …  x[Gdansk,Bydgoszcz]\n",
       " x[Gdynia,Warszawa]     x[Gdynia,Krakow]        x[Gdynia,Bydgoszcz]\n",
       " x[Szczecin,Warszawa]   x[Szczecin,Krakow]      x[Szczecin,Bydgoszcz]\n",
       " x[Torun,Warszawa]      x[Torun,Krakow]         x[Torun,Bydgoszcz]\n",
       " x[Bydgoszcz,Warszawa]  x[Bydgoszcz,Krakow]     x[Bydgoszcz,Bydgoszcz]"
      ]
     },
     "metadata": {},
     "output_type": "display_data"
    }
   ],
   "source": [
    "@variable(model, x[miasta, miasta], Bin)"
   ]
  },
  {
   "cell_type": "markdown",
   "metadata": {},
   "source": [
    "Ograniczenie możliwości przejazdu pomiędzy miastami, których nie łączy droga:"
   ]
  },
  {
   "cell_type": "code",
   "execution_count": 5,
   "metadata": {},
   "outputs": [],
   "source": [
    "for miasto1 in miasta, miasto2 in miasta\n",
    "    if !(miasto2 in keys(polaczenia[miasto1]))\n",
    "        @constraint(model, x[miasto1, miasto2] == 0)\n",
    "    end\n",
    "end"
   ]
  },
  {
   "cell_type": "markdown",
   "metadata": {},
   "source": [
    "Ograniczenie zmiennych aby zaznaczyć miejscowość początkową i końcową oraz zachować ciągłość trasy:"
   ]
  },
  {
   "cell_type": "code",
   "execution_count": 6,
   "metadata": {},
   "outputs": [],
   "source": [
    "for miasto in miasta\n",
    "    if miasto == lokalizacja_poczatkowa\n",
    "        @constraint(model, sum(x[miasto,:]) - sum(x[:,miasto]) == 1)\n",
    "    elseif  miasto == lokalizacja_koncowa\n",
    "        @constraint(model, sum(x[miasto,:]) - sum(x[:,miasto]) == -1)\n",
    "    else\n",
    "        @constraint(model, sum(x[miasto,:]) - sum(x[:,miasto]) == 0)\n",
    "    end\n",
    "end"
   ]
  },
  {
   "cell_type": "markdown",
   "metadata": {},
   "source": [
    "Ograniczenie na czas przejazdu w minutach(suma czasów przejazdów po drogach w minutach, które znajdują się na trasie):"
   ]
  },
  {
   "cell_type": "code",
   "execution_count": 7,
   "metadata": {},
   "outputs": [
    {
     "data": {
      "text/latex": [
       "$$ 217 x_{Krakow,Warszawa} + 104 x_{Lodz,Warszawa} + 229 x_{Wroclaw,Warszawa} + 199 x_{Poznan,Warszawa} + 240 x_{Gdansk,Warszawa} + 264 x_{Gdynia,Warszawa} + 170 x_{Torun,Warszawa} + 205 x_{Bydgoszcz,Warszawa} + 199 x_{Lodz,Krakow} + 189 x_{Wroclaw,Krakow} + 300 x_{Poznan,Krakow} + 387 x_{Szczecin,Krakow} + 102 x_{Warszawa,Lodz} + 277 x_{Krakow,Lodz} + 147 x_{Wroclaw,Lodz} + 150 x_{Poznan,Lodz} + 207 x_{Gdansk,Lodz} + 159 x_{Szczecin,Lodz} + 114 x_{Bydgoszcz,Lodz} + 232 x_{Warszawa,Wroclaw} + 206 x_{Krakow,Wroclaw} + 145 x_{Lodz,Wroclaw} + 134 x_{Poznan,Wroclaw} + 319 x_{Gdansk,Wroclaw} + 313 x_{Gdynia,Wroclaw} + 253 x_{Szczecin,Wroclaw} + 249 x_{Torun,Wroclaw} + 212 x_{Bydgoszcz,Wroclaw} + 211 x_{Warszawa,Poznan} + 312 x_{Krakow,Poznan} + 168 x_{Lodz,Poznan} + 134 x_{Wroclaw,Poznan} + 205 x_{Gdansk,Poznan} + 220 x_{Gdynia,Poznan} + 177 x_{Szczecin,Poznan} + 146 x_{Torun,Poznan} + 104 x_{Bydgoszcz,Poznan} + 224 x_{Warszawa,Gdansk} + 207 x_{Lodz,Gdansk} + 194 x_{Poznan,Gdansk} + 30 x_{Gdynia,Gdansk} + 266 x_{Szczecin,Gdansk} + 109 x_{Torun,Gdansk} + 112 x_{Bydgoszcz,Gdansk} + 226 x_{Lodz,Gdynia} + 314 x_{Wroclaw,Gdynia} + 212 x_{Poznan,Gdynia} + 30 x_{Gdansk,Gdynia} + 263 x_{Szczecin,Gdynia} + 123 x_{Torun,Gdynia} + 346 x_{Warszawa,Szczecin} + 344 x_{Krakow,Szczecin} + 259 x_{Wroclaw,Szczecin} + 272 x_{Gdynia,Szczecin} + 246 x_{Torun,Szczecin} + 228 x_{Bydgoszcz,Szczecin} + 168 x_{Warszawa,Torun} + 300 x_{Krakow,Torun} + 124 x_{Lodz,Torun} + 231 x_{Wroclaw,Torun} + 112 x_{Gdansk,Torun} + 128 x_{Gdynia,Torun} + 53 x_{Bydgoszcz,Torun} + 198 x_{Warszawa,Bydgoszcz} + 340 x_{Krakow,Bydgoszcz} + 92 x_{Poznan,Bydgoszcz} + 113 x_{Gdansk,Bydgoszcz} + 129 x_{Gdynia,Bydgoszcz} + 225 x_{Szczecin,Bydgoszcz} + 50 x_{Torun,Bydgoszcz} \\leq 440.0 $$"
      ],
      "text/plain": [
       "217 x[Krakow,Warszawa] + 104 x[Lodz,Warszawa] + 229 x[Wroclaw,Warszawa] + 199 x[Poznan,Warszawa] + 240 x[Gdansk,Warszawa] + 264 x[Gdynia,Warszawa] + 170 x[Torun,Warszawa] + 205 x[Bydgoszcz,Warszawa] + 199 x[Lodz,Krakow] + 189 x[Wroclaw,Krakow] + 300 x[Poznan,Krakow] + 387 x[Szczecin,Krakow] + 102 x[Warszawa,Lodz] + 277 x[Krakow,Lodz] + 147 x[Wroclaw,Lodz] + 150 x[Poznan,Lodz] + 207 x[Gdansk,Lodz] + 159 x[Szczecin,Lodz] + 114 x[Bydgoszcz,Lodz] + 232 x[Warszawa,Wroclaw] + 206 x[Krakow,Wroclaw] + 145 x[Lodz,Wroclaw] + 134 x[Poznan,Wroclaw] + 319 x[Gdansk,Wroclaw] + 313 x[Gdynia,Wroclaw] + 253 x[Szczecin,Wroclaw] + 249 x[Torun,Wroclaw] + 212 x[Bydgoszcz,Wroclaw] + 211 x[Warszawa,Poznan] + 312 x[Krakow,Poznan] + 168 x[Lodz,Poznan] + 134 x[Wroclaw,Poznan] + 205 x[Gdansk,Poznan] + 220 x[Gdynia,Poznan] + 177 x[Szczecin,Poznan] + 146 x[Torun,Poznan] + 104 x[Bydgoszcz,Poznan] + 224 x[Warszawa,Gdansk] + 207 x[Lodz,Gdansk] + 194 x[Poznan,Gdansk] + 30 x[Gdynia,Gdansk] + 266 x[Szczecin,Gdansk] + 109 x[Torun,Gdansk] + 112 x[Bydgoszcz,Gdansk] + 226 x[Lodz,Gdynia] + 314 x[Wroclaw,Gdynia] + 212 x[Poznan,Gdynia] + 30 x[Gdansk,Gdynia] + 263 x[Szczecin,Gdynia] + 123 x[Torun,Gdynia] + 346 x[Warszawa,Szczecin] + 344 x[Krakow,Szczecin] + 259 x[Wroclaw,Szczecin] + 272 x[Gdynia,Szczecin] + 246 x[Torun,Szczecin] + 228 x[Bydgoszcz,Szczecin] + 168 x[Warszawa,Torun] + 300 x[Krakow,Torun] + 124 x[Lodz,Torun] + 231 x[Wroclaw,Torun] + 112 x[Gdansk,Torun] + 128 x[Gdynia,Torun] + 53 x[Bydgoszcz,Torun] + 198 x[Warszawa,Bydgoszcz] + 340 x[Krakow,Bydgoszcz] + 92 x[Poznan,Bydgoszcz] + 113 x[Gdansk,Bydgoszcz] + 129 x[Gdynia,Bydgoszcz] + 225 x[Szczecin,Bydgoszcz] + 50 x[Torun,Bydgoszcz] ≤ 440.0"
      ]
     },
     "metadata": {},
     "output_type": "display_data"
    }
   ],
   "source": [
    "@constraint(model, \n",
    "    sum(x[miasto1, miasto2] * polaczenia[miasto1][miasto2][\"czas\"] for miasto1 in miasta, miasto2 in keys(polaczenia[miasto1])) <= ograniczenie_czasowe)"
   ]
  },
  {
   "cell_type": "markdown",
   "metadata": {},
   "source": [
    "Funkcja kosztu w kilometrach(suma długości dróg w kilomentrach, które znajdują się na trasie):"
   ]
  },
  {
   "cell_type": "code",
   "execution_count": 8,
   "metadata": {},
   "outputs": [
    {
     "data": {
      "text/latex": [
       "$$ 340 x_{Warszawa,Gdansk} + 308 x_{Warszawa,Bydgoszcz} + 259 x_{Warszawa,Torun} + 348 x_{Warszawa,Wroclaw} + 136 x_{Warszawa,Lodz} + 312 x_{Warszawa,Poznan} + 566 x_{Warszawa,Szczecin} + 495 x_{Krakow,Bydgoszcz} + 446 x_{Krakow,Torun} + 268 x_{Krakow,Wroclaw} + 434 x_{Krakow,Lodz} + 459 x_{Krakow,Poznan} + 648 x_{Krakow,Szczecin} + 290 x_{Krakow,Warszawa} + 362 x_{Lodz,Gdynia} + 340 x_{Lodz,Gdansk} + 183 x_{Lodz,Torun} + 280 x_{Lodz,Krakow} + 214 x_{Lodz,Wroclaw} + 211 x_{Lodz,Poznan} + 140 x_{Lodz,Warszawa} + 509 x_{Wroclaw,Gdynia} + 358 x_{Wroclaw,Torun} + 273 x_{Wroclaw,Krakow} + 222 x_{Wroclaw,Lodz} + 182 x_{Wroclaw,Poznan} + 417 x_{Wroclaw,Szczecin} + 355 x_{Wroclaw,Warszawa} + 332 x_{Poznan,Gdynia} + 311 x_{Poznan,Gdansk} + 139 x_{Poznan,Bydgoszcz} + 458 x_{Poznan,Krakow} + 185 x_{Poznan,Wroclaw} + 218 x_{Poznan,Lodz} + 311 x_{Poznan,Warszawa} + 20 x_{Gdansk,Gdynia} + 167 x_{Gdansk,Bydgoszcz} + 170 x_{Gdansk,Torun} + 482 x_{Gdansk,Wroclaw} + 337 x_{Gdansk,Lodz} + 311 x_{Gdansk,Poznan} + 348 x_{Gdansk,Warszawa} + 36 x_{Gdynia,Gdansk} + 191 x_{Gdynia,Bydgoszcz} + 194 x_{Gdynia,Torun} + 509 x_{Gdynia,Wroclaw} + 336 x_{Gdynia,Poznan} + 358 x_{Gdynia,Szczecin} + 383 x_{Gdynia,Warszawa} + 370 x_{Szczecin,Gdansk} + 259 x_{Szczecin,Bydgoszcz} + 647 x_{Szczecin,Krakow} + 394 x_{Szczecin,Wroclaw} + 269 x_{Szczecin,Lodz} + 265 x_{Szczecin,Poznan} + 355 x_{Szczecin,Gdynia} + 194 x_{Torun,Gdynia} + 168 x_{Torun,Gdansk} + 46 x_{Torun,Bydgoszcz} + 392 x_{Torun,Wroclaw} + 189 x_{Torun,Poznan} + 314 x_{Torun,Szczecin} + 262 x_{Torun,Warszawa} + 167 x_{Bydgoszcz,Gdansk} + 46 x_{Bydgoszcz,Torun} + 313 x_{Bydgoszcz,Wroclaw} + 164 x_{Bydgoszcz,Lodz} + 132 x_{Bydgoszcz,Poznan} + 259 x_{Bydgoszcz,Szczecin} + 310 x_{Bydgoszcz,Warszawa} $$"
      ],
      "text/plain": [
       "340 x[Warszawa,Gdansk] + 308 x[Warszawa,Bydgoszcz] + 259 x[Warszawa,Torun] + 348 x[Warszawa,Wroclaw] + 136 x[Warszawa,Lodz] + 312 x[Warszawa,Poznan] + 566 x[Warszawa,Szczecin] + 495 x[Krakow,Bydgoszcz] + 446 x[Krakow,Torun] + 268 x[Krakow,Wroclaw] + 434 x[Krakow,Lodz] + 459 x[Krakow,Poznan] + 648 x[Krakow,Szczecin] + 290 x[Krakow,Warszawa] + 362 x[Lodz,Gdynia] + 340 x[Lodz,Gdansk] + 183 x[Lodz,Torun] + 280 x[Lodz,Krakow] + 214 x[Lodz,Wroclaw] + 211 x[Lodz,Poznan] + 140 x[Lodz,Warszawa] + 509 x[Wroclaw,Gdynia] + 358 x[Wroclaw,Torun] + 273 x[Wroclaw,Krakow] + 222 x[Wroclaw,Lodz] + 182 x[Wroclaw,Poznan] + 417 x[Wroclaw,Szczecin] + 355 x[Wroclaw,Warszawa] + 332 x[Poznan,Gdynia] + 311 x[Poznan,Gdansk] + 139 x[Poznan,Bydgoszcz] + 458 x[Poznan,Krakow] + 185 x[Poznan,Wroclaw] + 218 x[Poznan,Lodz] + 311 x[Poznan,Warszawa] + 20 x[Gdansk,Gdynia] + 167 x[Gdansk,Bydgoszcz] + 170 x[Gdansk,Torun] + 482 x[Gdansk,Wroclaw] + 337 x[Gdansk,Lodz] + 311 x[Gdansk,Poznan] + 348 x[Gdansk,Warszawa] + 36 x[Gdynia,Gdansk] + 191 x[Gdynia,Bydgoszcz] + 194 x[Gdynia,Torun] + 509 x[Gdynia,Wroclaw] + 336 x[Gdynia,Poznan] + 358 x[Gdynia,Szczecin] + 383 x[Gdynia,Warszawa] + 370 x[Szczecin,Gdansk] + 259 x[Szczecin,Bydgoszcz] + 647 x[Szczecin,Krakow] + 394 x[Szczecin,Wroclaw] + 269 x[Szczecin,Lodz] + 265 x[Szczecin,Poznan] + 355 x[Szczecin,Gdynia] + 194 x[Torun,Gdynia] + 168 x[Torun,Gdansk] + 46 x[Torun,Bydgoszcz] + 392 x[Torun,Wroclaw] + 189 x[Torun,Poznan] + 314 x[Torun,Szczecin] + 262 x[Torun,Warszawa] + 167 x[Bydgoszcz,Gdansk] + 46 x[Bydgoszcz,Torun] + 313 x[Bydgoszcz,Wroclaw] + 164 x[Bydgoszcz,Lodz] + 132 x[Bydgoszcz,Poznan] + 259 x[Bydgoszcz,Szczecin] + 310 x[Bydgoszcz,Warszawa]"
      ]
     },
     "metadata": {},
     "output_type": "display_data"
    }
   ],
   "source": [
    "@objective(model, Min, \n",
    "    sum(x[miasto1, miasto2] * polaczenia[miasto1][miasto2][\"odleglosc\"] for miasto1 in miasta, miasto2 in keys(polaczenia[miasto1])))\n"
   ]
  },
  {
   "cell_type": "code",
   "execution_count": 9,
   "metadata": {},
   "outputs": [],
   "source": [
    "optimize!(model)"
   ]
  },
  {
   "cell_type": "code",
   "execution_count": 10,
   "metadata": {},
   "outputs": [
    {
     "data": {
      "text/plain": [
       "* Solver : GLPK\n",
       "\n",
       "* Status\n",
       "  Result count       : 1\n",
       "  Termination status : OPTIMAL\n",
       "  Message from the solver:\n",
       "  \"Solution is optimal\"\n",
       "\n",
       "* Candidate solution (result #1)\n",
       "  Primal status      : FEASIBLE_POINT\n",
       "  Dual status        : NO_SOLUTION\n",
       "  Objective value    : 6.53000e+02\n",
       "  Objective bound    : 6.53000e+02\n",
       "  Relative gap       : 0.00000e+00\n",
       "\n",
       "* Work counters\n",
       "  Solve time (sec)   : 6.58512e-03\n"
      ]
     },
     "metadata": {},
     "output_type": "display_data"
    }
   ],
   "source": [
    "solution_summary(model)"
   ]
  },
  {
   "cell_type": "code",
   "execution_count": 11,
   "metadata": {},
   "outputs": [
    {
     "data": {
      "text/plain": [
       "653.0"
      ]
     },
     "metadata": {},
     "output_type": "display_data"
    }
   ],
   "source": [
    "JuMP.objective_value(model)"
   ]
  },
  {
   "cell_type": "code",
   "execution_count": 12,
   "metadata": {},
   "outputs": [
    {
     "name": "stdout",
     "output_type": "stream",
     "text": [
      "Total time: 436.0\n"
     ]
    }
   ],
   "source": [
    "total_time = 0\n",
    "for miasto1 in miasta\n",
    "    for miasto2 in keys(polaczenia[miasto1])\n",
    "        total_time += value(x[miasto1, miasto2]) * polaczenia[miasto1][miasto2][\"czas\"]\n",
    "    end\n",
    "end\n",
    "\n",
    "println(\"Total time: \", total_time)"
   ]
  },
  {
   "cell_type": "code",
   "execution_count": 13,
   "metadata": {},
   "outputs": [
    {
     "name": "stdout",
     "output_type": "stream",
     "text": [
      "Lodz => Krakow   =1.0\n",
      "Gdansk => Lodz   =1.0\n",
      "Gdynia => Gdansk   =1.0\n"
     ]
    }
   ],
   "source": [
    "for miasto1 in miasta, miasto2 in miasta\n",
    "    if value(x[miasto1, miasto2]) > 0.0\n",
    "        println(miasto1, \" => \", miasto2, \"   =\", value(x[miasto1, miasto2]))\n",
    "    end\n",
    "end"
   ]
  }
 ],
 "metadata": {
  "kernelspec": {
   "display_name": "Julia 1.8.5",
   "language": "julia",
   "name": "julia-1.8"
  },
  "language_info": {
   "file_extension": ".jl",
   "mimetype": "application/julia",
   "name": "julia",
   "version": "1.8.5"
  },
  "orig_nbformat": 4,
  "vscode": {
   "interpreter": {
    "hash": "e7370f93d1d0cde622a1f8e1c04877d8463912d04d973331ad4851f04de6915a"
   }
  }
 },
 "nbformat": 4,
 "nbformat_minor": 2
}
